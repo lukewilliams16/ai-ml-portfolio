{
  "nbformat": 4,
  "nbformat_minor": 0,
  "metadata": {
    "colab": {
      "provenance": [],
      "collapsed_sections": [
        "imKOCV5dqofc",
        "9wiG3RnUod1G",
        "6m3h6NH4amGl"
      ]
    },
    "kernelspec": {
      "name": "python3",
      "display_name": "Python 3"
    },
    "language_info": {
      "name": "python"
    }
  },
  "cells": [
    {
      "cell_type": "code",
      "execution_count": 68,
      "metadata": {
        "colab": {
          "base_uri": "https://localhost:8080/"
        },
        "id": "lo1fL1Mf1Ogo",
        "outputId": "8998f42e-32f3-4b22-ec5e-ab84631d6055"
      },
      "outputs": [
        {
          "output_type": "stream",
          "name": "stdout",
          "text": [
            "2.19.0\n"
          ]
        }
      ],
      "source": [
        "import tensorflow as tf\n",
        "import yfinance as yf\n",
        "import pandas as pd\n",
        "import numpy as np\n",
        "print(tf.__version__)\n",
        "from tensorflow.keras import Sequential\n",
        "from tensorflow.keras.layers import LSTM, Dense, Dropout\n",
        "import matplotlib.pyplot as plt\n",
        "from sklearn.metrics import mean_squared_error, mean_absolute_error"
      ]
    },
    {
      "cell_type": "markdown",
      "source": [
        "##Day 1: The Basics"
      ],
      "metadata": {
        "id": "imKOCV5dqofc"
      }
    },
    {
      "cell_type": "code",
      "source": [
        "# 0-D tensor (scalar)\n",
        "scalar = tf.constant(5)\n",
        "print(scalar)\n",
        "\n",
        "# 1-D tensor (vector)\n",
        "vector = tf.constant([1, 2, 3])\n",
        "print(vector)\n",
        "\n",
        "# 2-D tensor (matrix)\n",
        "matrix = tf.constant([[1, 2], [3, 4]])\n",
        "print(matrix)\n",
        "\n",
        "# 3-D tensor\n",
        "tensor3d = tf.constant([[[1], [2]], [[3], [4]]])\n",
        "print(tensor3d)"
      ],
      "metadata": {
        "colab": {
          "base_uri": "https://localhost:8080/"
        },
        "id": "vpjYTIwo1kfY",
        "outputId": "f0bb06d0-74b3-4f1a-a5be-775a34522058"
      },
      "execution_count": 69,
      "outputs": [
        {
          "output_type": "stream",
          "name": "stdout",
          "text": [
            "tf.Tensor(5, shape=(), dtype=int32)\n",
            "tf.Tensor([1 2 3], shape=(3,), dtype=int32)\n",
            "tf.Tensor(\n",
            "[[1 2]\n",
            " [3 4]], shape=(2, 2), dtype=int32)\n",
            "tf.Tensor(\n",
            "[[[1]\n",
            "  [2]]\n",
            "\n",
            " [[3]\n",
            "  [4]]], shape=(2, 2, 1), dtype=int32)\n"
          ]
        }
      ]
    },
    {
      "cell_type": "code",
      "source": [
        "matrix = tf.constant(tf.range(1,10), shape=(3,3))\n",
        "matrix"
      ],
      "metadata": {
        "colab": {
          "base_uri": "https://localhost:8080/"
        },
        "id": "7o3iNdOk1scB",
        "outputId": "fe87cc63-ff7b-4242-9b95-ddbe9557acae"
      },
      "execution_count": 70,
      "outputs": [
        {
          "output_type": "execute_result",
          "data": {
            "text/plain": [
              "<tf.Tensor: shape=(3, 3), dtype=int32, numpy=\n",
              "array([[1, 2, 3],\n",
              "       [4, 5, 6],\n",
              "       [7, 8, 9]], dtype=int32)>"
            ]
          },
          "metadata": {},
          "execution_count": 70
        }
      ]
    },
    {
      "cell_type": "code",
      "source": [
        "mat1 = tf.constant([[1, 2], [3, 4]])\n",
        "mat2 = tf.constant([[5, 6], [7, 8]])"
      ],
      "metadata": {
        "id": "jOOSoHMV3SQR"
      },
      "execution_count": 71,
      "outputs": []
    },
    {
      "cell_type": "code",
      "source": [
        "print(mat1 + mat2)\n",
        "print(mat1 - mat2)\n",
        "print(mat1 * mat2)\n",
        "print(mat1 / mat2)"
      ],
      "metadata": {
        "colab": {
          "base_uri": "https://localhost:8080/"
        },
        "id": "Ui3WszFg3Tm9",
        "outputId": "0b8b5474-df59-4c84-9864-8fbf045657e7"
      },
      "execution_count": 72,
      "outputs": [
        {
          "output_type": "stream",
          "name": "stdout",
          "text": [
            "tf.Tensor(\n",
            "[[ 6  8]\n",
            " [10 12]], shape=(2, 2), dtype=int32)\n",
            "tf.Tensor(\n",
            "[[-4 -4]\n",
            " [-4 -4]], shape=(2, 2), dtype=int32)\n",
            "tf.Tensor(\n",
            "[[ 5 12]\n",
            " [21 32]], shape=(2, 2), dtype=int32)\n",
            "tf.Tensor(\n",
            "[[0.2        0.33333333]\n",
            " [0.42857143 0.5       ]], shape=(2, 2), dtype=float64)\n"
          ]
        }
      ]
    },
    {
      "cell_type": "code",
      "source": [
        "print(tf.matmul(mat1, mat2))"
      ],
      "metadata": {
        "colab": {
          "base_uri": "https://localhost:8080/"
        },
        "id": "ApR8CXoX3aCl",
        "outputId": "6a0cfc62-66be-46b1-813f-78acb6907e7b"
      },
      "execution_count": 73,
      "outputs": [
        {
          "output_type": "stream",
          "name": "stdout",
          "text": [
            "tf.Tensor(\n",
            "[[19 22]\n",
            " [43 50]], shape=(2, 2), dtype=int32)\n"
          ]
        }
      ]
    },
    {
      "cell_type": "code",
      "source": [
        "print(tf.reduce_sum(mat1))\n",
        "print(tf.reduce_mean(mat1))"
      ],
      "metadata": {
        "colab": {
          "base_uri": "https://localhost:8080/"
        },
        "id": "Tprz7iym3sEw",
        "outputId": "dd40ff36-a409-44c1-ce73-04112de1cbc2"
      },
      "execution_count": 74,
      "outputs": [
        {
          "output_type": "stream",
          "name": "stdout",
          "text": [
            "tf.Tensor(10, shape=(), dtype=int32)\n",
            "tf.Tensor(2, shape=(), dtype=int32)\n"
          ]
        }
      ]
    },
    {
      "cell_type": "code",
      "source": [
        "transosed=tf.transpose(mat1)\n",
        "transosed"
      ],
      "metadata": {
        "colab": {
          "base_uri": "https://localhost:8080/"
        },
        "id": "9fWuGdUU4Fty",
        "outputId": "b18aa725-f1da-44ff-ead5-ef41e09aebda"
      },
      "execution_count": 75,
      "outputs": [
        {
          "output_type": "execute_result",
          "data": {
            "text/plain": [
              "<tf.Tensor: shape=(2, 2), dtype=int32, numpy=\n",
              "array([[1, 3],\n",
              "       [2, 4]], dtype=int32)>"
            ]
          },
          "metadata": {},
          "execution_count": 75
        }
      ]
    },
    {
      "cell_type": "code",
      "source": [
        "x=tf.constant([1.0,4.0,9.0,16.0])\n",
        "print(tf.sqrt(x))\n",
        "print(tf.exp(x))\n",
        "tensor = tf.constant([[1.0, 2, 3], [4, 5, 6]])\n",
        "total_sum=tf.reduce_sum(tensor)\n",
        "print(total_sum)\n",
        "mean_value=tf.reduce_mean(tensor)\n",
        "print(mean_value)\n",
        "tensor= tf.constant([[1, 2],[3,4]], dtype=tf.float32)\n",
        "print(tf.sqrt(tf.reduce_sum(tf.square(tensor))))"
      ],
      "metadata": {
        "colab": {
          "base_uri": "https://localhost:8080/"
        },
        "id": "-b_YJSgGoigN",
        "outputId": "1e604bff-9c7a-4887-cf62-7e9f12fbbdca"
      },
      "execution_count": 76,
      "outputs": [
        {
          "output_type": "stream",
          "name": "stdout",
          "text": [
            "tf.Tensor([1. 2. 3. 4.], shape=(4,), dtype=float32)\n",
            "tf.Tensor([2.7182817e+00 5.4598148e+01 8.1030840e+03 8.8861110e+06], shape=(4,), dtype=float32)\n",
            "tf.Tensor(21.0, shape=(), dtype=float32)\n",
            "tf.Tensor(3.5, shape=(), dtype=float32)\n",
            "tf.Tensor(5.477226, shape=(), dtype=float32)\n"
          ]
        }
      ]
    },
    {
      "cell_type": "markdown",
      "source": [
        "##Day 2: Building Blocks for Time Series Modeling"
      ],
      "metadata": {
        "id": "9wiG3RnUod1G"
      }
    },
    {
      "cell_type": "code",
      "source": [
        "data = yf.download(\"AAPL\", start=\"2023-01-01\", end=\"2023-07-01\",auto_adjust=False)\n",
        "data.columns = data.columns.droplevel(1)\n",
        "features= data[['Open', 'Close', 'Volume']]\n",
        "# Convert to float32 tensor\n",
        "features = tf.constant(features.values, dtype=tf.float32)\n",
        "dta=data"
      ],
      "metadata": {
        "colab": {
          "base_uri": "https://localhost:8080/"
        },
        "id": "87oJtq7nrCR0",
        "outputId": "9e4fafc8-bb88-46ca-e71d-46bf86790657"
      },
      "execution_count": 77,
      "outputs": [
        {
          "output_type": "stream",
          "name": "stderr",
          "text": [
            "\r[*********************100%***********************]  1 of 1 completed\n"
          ]
        }
      ]
    },
    {
      "cell_type": "code",
      "source": [
        "# Min-max normalization\n",
        "min_val = tf.reduce_min(features, axis=0)\n",
        "max_val = tf.reduce_max(features, axis=0)\n",
        "normalized_features = (features - min_val) / (max_val - min_val)\n",
        "print(normalized_features[:5])"
      ],
      "metadata": {
        "colab": {
          "base_uri": "https://localhost:8080/"
        },
        "id": "GBUKfY5Fr737",
        "outputId": "b8a74b08-4435-421c-a3bd-fe2ff3251a6b"
      },
      "execution_count": 78,
      "outputs": [
        {
          "output_type": "stream",
          "name": "stdout",
          "text": [
            "tf.Tensor(\n",
            "[[0.06507157 0.00072521 0.63925546]\n",
            " [0.0134105  0.01943443 0.44279304]\n",
            " [0.01706789 0.         0.37318116]\n",
            " [0.         0.06671499 0.43118754]\n",
            " [0.06796706 0.0744017  0.2863091 ]], shape=(5, 3), dtype=float32)\n"
          ]
        }
      ]
    },
    {
      "cell_type": "code",
      "source": [
        "sequence_length=5\n",
        "X=[]\n",
        "Y=[]\n",
        "for i in range(len(normalized_features)-sequence_length):\n",
        "  X.append(normalized_features[i:i+sequence_length])\n",
        "  Y.append(normalized_features[i+sequence_length,1])\n",
        "\n",
        "X=tf.stack(X)\n",
        "Y=tf.stack(Y)\n",
        "print(X.shape, Y.shape)"
      ],
      "metadata": {
        "colab": {
          "base_uri": "https://localhost:8080/"
        },
        "id": "2eSfNsTesM62",
        "outputId": "3e3f5e7b-5a3d-49b6-8c2c-0f5e079cd181"
      },
      "execution_count": 79,
      "outputs": [
        {
          "output_type": "stream",
          "name": "stdout",
          "text": [
            "(119, 5, 3) (119,)\n"
          ]
        }
      ]
    },
    {
      "cell_type": "code",
      "source": [
        "data=tf.data.Dataset.from_tensor_slices((X,Y))"
      ],
      "metadata": {
        "id": "RQVlz_3iuzZm"
      },
      "execution_count": 80,
      "outputs": []
    },
    {
      "cell_type": "code",
      "source": [
        "for seq, label in data.take(2):\n",
        "    print(\"Sequence:\", seq.numpy())\n",
        "    print(\"Label:\", label.numpy())"
      ],
      "metadata": {
        "colab": {
          "base_uri": "https://localhost:8080/"
        },
        "id": "DzrdRDYZvELB",
        "outputId": "919eae9f-b5a4-479f-81ef-b0b426db97b5"
      },
      "execution_count": 81,
      "outputs": [
        {
          "output_type": "stream",
          "name": "stdout",
          "text": [
            "Sequence: [[0.06507157 0.00072521 0.63925546]\n",
            " [0.0134105  0.01943443 0.44279304]\n",
            " [0.01706789 0.         0.37318116]\n",
            " [0.         0.06671499 0.43118754]\n",
            " [0.06796706 0.0744017  0.2863091 ]]\n",
            "Label: 0.08281361\n",
            "Sequence: [[0.0134105  0.01943443 0.44279304]\n",
            " [0.01706789 0.         0.37318116]\n",
            " [0.         0.06671499 0.43118754]\n",
            " [0.06796706 0.0744017  0.2863091 ]\n",
            " [0.06476672 0.08281361 0.22742647]]\n",
            "Label: 0.12284276\n"
          ]
        }
      ]
    },
    {
      "cell_type": "code",
      "source": [
        "data = data.shuffle(buffer_size=100)  # buffer_size >= dataset size is best\n",
        "batch_size= 16\n",
        "data=data.batch(batch_size)"
      ],
      "metadata": {
        "id": "HNUfL3Mzv9S4"
      },
      "execution_count": 82,
      "outputs": []
    },
    {
      "cell_type": "code",
      "source": [
        "# Lets TensorFlow prepare the next batch while training on the current batch, speeding up training.\n",
        "data=data.prefetch(tf.data.AUTOTUNE)"
      ],
      "metadata": {
        "id": "ZV-w_hSSwbWJ"
      },
      "execution_count": 83,
      "outputs": []
    },
    {
      "cell_type": "code",
      "source": [
        "returns = (features[:, 1] - features[:, 0]) / features[:, 0]\n",
        "returns = tf.expand_dims(returns, 1)\n",
        "features_with_returns = tf.concat([features, returns], axis=1)"
      ],
      "metadata": {
        "id": "nwXiFxkiwptP"
      },
      "execution_count": 84,
      "outputs": []
    },
    {
      "cell_type": "code",
      "source": [
        "# 3-day ma of close price\n",
        "close_prices= normalized_features[:,1]\n",
        "ma3 = tf.concat([tf.zeros(2), tf.reduce_mean(tf.stack([close_prices[i-2:i+1] for i in range(2, len(close_prices))]), axis=1)], axis=0)\n",
        "ma3 = tf.expand_dims(ma3, axis=1)\n",
        "features_with_ma = tf.concat([features_with_returns, ma3], axis=1)"
      ],
      "metadata": {
        "id": "8GkCBsE1ze16"
      },
      "execution_count": 85,
      "outputs": []
    },
    {
      "cell_type": "code",
      "source": [
        "sequence_length = 5\n",
        "horizon = 3  # predict next 3 days\n",
        "\n",
        "X = []\n",
        "Y = []\n",
        "for i in range(len(features_with_ma) - sequence_length - horizon + 1):\n",
        "  X.append(features_with_ma[i:i+sequence_length])\n",
        "  Y.append(features_with_ma[i+sequence_length:i+sequence_length+horizon,1])\n",
        "\n",
        "X = tf.stack(X)\n",
        "Y = tf.stack(Y)"
      ],
      "metadata": {
        "id": "tHknoEgN2ACV"
      },
      "execution_count": 86,
      "outputs": []
    },
    {
      "cell_type": "code",
      "source": [
        "#split code into training and test datasets\n",
        "split= .8*len(X)\n",
        "print(split)\n",
        "X_train, X_test = X[:int(split)], X[int(split):]\n",
        "Y_train, Y_test = Y[:int(split)], Y[int(split):]\n",
        "train_dataset = tf.data.Dataset.from_tensor_slices((X_train, Y_train)).shuffle(100).batch(16).prefetch(tf.data.AUTOTUNE)\n",
        "test_dataset = tf.data.Dataset.from_tensor_slices((X_test, Y_test)).batch(16).prefetch(tf.data.AUTOTUNE)"
      ],
      "metadata": {
        "colab": {
          "base_uri": "https://localhost:8080/"
        },
        "id": "DENHMMfq2gNQ",
        "outputId": "1eb8a265-bc2f-44e9-ffc5-d748c0f7113f"
      },
      "execution_count": 87,
      "outputs": [
        {
          "output_type": "stream",
          "name": "stdout",
          "text": [
            "93.60000000000001\n"
          ]
        }
      ]
    },
    {
      "cell_type": "markdown",
      "source": [],
      "metadata": {
        "id": "Vq_9lO-Kajlq"
      }
    },
    {
      "cell_type": "markdown",
      "source": [
        "## Day 3: Training LSTM Model in TensorFlow"
      ],
      "metadata": {
        "id": "6m3h6NH4amGl"
      }
    },
    {
      "cell_type": "code",
      "source": [
        "X_dummy = np.random.rand(100, 5, 3).astype(np.float32)\n",
        "y_dummy = np.random.rand(100, 1).astype(np.float32)\n",
        "model = Sequential([\n",
        "    LSTM(units=32, input_shape=(5, 3)),   # 32 memory units, 5 timesteps, 3 features\n",
        "    Dense(1)                              # output layer (predict 1 value, e.g., next Close)\n",
        "])\n"
      ],
      "metadata": {
        "colab": {
          "base_uri": "https://localhost:8080/"
        },
        "id": "fjjBv4tbasRC",
        "outputId": "ca83c24c-ac21-41ab-ecb2-91e04c8c91d6"
      },
      "execution_count": 88,
      "outputs": [
        {
          "output_type": "stream",
          "name": "stderr",
          "text": [
            "/usr/local/lib/python3.12/dist-packages/keras/src/layers/rnn/rnn.py:199: UserWarning: Do not pass an `input_shape`/`input_dim` argument to a layer. When using Sequential models, prefer using an `Input(shape)` object as the first layer in the model instead.\n",
            "  super().__init__(**kwargs)\n"
          ]
        }
      ]
    },
    {
      "cell_type": "code",
      "source": [
        "model.compile(optimizer='adam', loss='mse')\n",
        "model.summary()\n"
      ],
      "metadata": {
        "colab": {
          "base_uri": "https://localhost:8080/",
          "height": 193
        },
        "id": "L1zyfWbKbYor",
        "outputId": "fc5fd5c3-6a03-419a-fecb-b5e0057344e8"
      },
      "execution_count": 89,
      "outputs": [
        {
          "output_type": "display_data",
          "data": {
            "text/plain": [
              "\u001b[1mModel: \"sequential_9\"\u001b[0m\n"
            ],
            "text/html": [
              "<pre style=\"white-space:pre;overflow-x:auto;line-height:normal;font-family:Menlo,'DejaVu Sans Mono',consolas,'Courier New',monospace\"><span style=\"font-weight: bold\">Model: \"sequential_9\"</span>\n",
              "</pre>\n"
            ]
          },
          "metadata": {}
        },
        {
          "output_type": "display_data",
          "data": {
            "text/plain": [
              "┏━━━━━━━━━━━━━━━━━━━━━━━━━━━━━━━━━┳━━━━━━━━━━━━━━━━━━━━━━━━┳━━━━━━━━━━━━━━━┓\n",
              "┃\u001b[1m \u001b[0m\u001b[1mLayer (type)                   \u001b[0m\u001b[1m \u001b[0m┃\u001b[1m \u001b[0m\u001b[1mOutput Shape          \u001b[0m\u001b[1m \u001b[0m┃\u001b[1m \u001b[0m\u001b[1m      Param #\u001b[0m\u001b[1m \u001b[0m┃\n",
              "┡━━━━━━━━━━━━━━━━━━━━━━━━━━━━━━━━━╇━━━━━━━━━━━━━━━━━━━━━━━━╇━━━━━━━━━━━━━━━┩\n",
              "│ lstm_10 (\u001b[38;5;33mLSTM\u001b[0m)                  │ (\u001b[38;5;45mNone\u001b[0m, \u001b[38;5;34m32\u001b[0m)             │         \u001b[38;5;34m4,608\u001b[0m │\n",
              "├─────────────────────────────────┼────────────────────────┼───────────────┤\n",
              "│ dense_15 (\u001b[38;5;33mDense\u001b[0m)                │ (\u001b[38;5;45mNone\u001b[0m, \u001b[38;5;34m1\u001b[0m)              │            \u001b[38;5;34m33\u001b[0m │\n",
              "└─────────────────────────────────┴────────────────────────┴───────────────┘\n"
            ],
            "text/html": [
              "<pre style=\"white-space:pre;overflow-x:auto;line-height:normal;font-family:Menlo,'DejaVu Sans Mono',consolas,'Courier New',monospace\">┏━━━━━━━━━━━━━━━━━━━━━━━━━━━━━━━━━┳━━━━━━━━━━━━━━━━━━━━━━━━┳━━━━━━━━━━━━━━━┓\n",
              "┃<span style=\"font-weight: bold\"> Layer (type)                    </span>┃<span style=\"font-weight: bold\"> Output Shape           </span>┃<span style=\"font-weight: bold\">       Param # </span>┃\n",
              "┡━━━━━━━━━━━━━━━━━━━━━━━━━━━━━━━━━╇━━━━━━━━━━━━━━━━━━━━━━━━╇━━━━━━━━━━━━━━━┩\n",
              "│ lstm_10 (<span style=\"color: #0087ff; text-decoration-color: #0087ff\">LSTM</span>)                  │ (<span style=\"color: #00d7ff; text-decoration-color: #00d7ff\">None</span>, <span style=\"color: #00af00; text-decoration-color: #00af00\">32</span>)             │         <span style=\"color: #00af00; text-decoration-color: #00af00\">4,608</span> │\n",
              "├─────────────────────────────────┼────────────────────────┼───────────────┤\n",
              "│ dense_15 (<span style=\"color: #0087ff; text-decoration-color: #0087ff\">Dense</span>)                │ (<span style=\"color: #00d7ff; text-decoration-color: #00d7ff\">None</span>, <span style=\"color: #00af00; text-decoration-color: #00af00\">1</span>)              │            <span style=\"color: #00af00; text-decoration-color: #00af00\">33</span> │\n",
              "└─────────────────────────────────┴────────────────────────┴───────────────┘\n",
              "</pre>\n"
            ]
          },
          "metadata": {}
        },
        {
          "output_type": "display_data",
          "data": {
            "text/plain": [
              "\u001b[1m Total params: \u001b[0m\u001b[38;5;34m4,641\u001b[0m (18.13 KB)\n"
            ],
            "text/html": [
              "<pre style=\"white-space:pre;overflow-x:auto;line-height:normal;font-family:Menlo,'DejaVu Sans Mono',consolas,'Courier New',monospace\"><span style=\"font-weight: bold\"> Total params: </span><span style=\"color: #00af00; text-decoration-color: #00af00\">4,641</span> (18.13 KB)\n",
              "</pre>\n"
            ]
          },
          "metadata": {}
        },
        {
          "output_type": "display_data",
          "data": {
            "text/plain": [
              "\u001b[1m Trainable params: \u001b[0m\u001b[38;5;34m4,641\u001b[0m (18.13 KB)\n"
            ],
            "text/html": [
              "<pre style=\"white-space:pre;overflow-x:auto;line-height:normal;font-family:Menlo,'DejaVu Sans Mono',consolas,'Courier New',monospace\"><span style=\"font-weight: bold\"> Trainable params: </span><span style=\"color: #00af00; text-decoration-color: #00af00\">4,641</span> (18.13 KB)\n",
              "</pre>\n"
            ]
          },
          "metadata": {}
        },
        {
          "output_type": "display_data",
          "data": {
            "text/plain": [
              "\u001b[1m Non-trainable params: \u001b[0m\u001b[38;5;34m0\u001b[0m (0.00 B)\n"
            ],
            "text/html": [
              "<pre style=\"white-space:pre;overflow-x:auto;line-height:normal;font-family:Menlo,'DejaVu Sans Mono',consolas,'Courier New',monospace\"><span style=\"font-weight: bold\"> Non-trainable params: </span><span style=\"color: #00af00; text-decoration-color: #00af00\">0</span> (0.00 B)\n",
              "</pre>\n"
            ]
          },
          "metadata": {}
        }
      ]
    },
    {
      "cell_type": "code",
      "source": [
        "model = Sequential([\n",
        "    LSTM(units=64, return_sequences=False, input_shape=(sequence_length, X_train.shape[2])),\n",
        "    Dropout(0.2),   # helps prevent overfitting - randomly turns off 20% of neurons each batch → avoids overfitting.\n",
        "    Dense(32, activation='relu'),\n",
        "    Dense(1)        # predict next-day Close (or horizon if multi-step)\n",
        "])\n"
      ],
      "metadata": {
        "id": "U5impELscVwC"
      },
      "execution_count": 90,
      "outputs": []
    },
    {
      "cell_type": "code",
      "source": [
        "model.compile(\n",
        "    optimizer=tf.keras.optimizers.Adam(learning_rate=0.001),\n",
        "    loss='mse',\n",
        "    metrics=['mae']   # mean absolute error for interpretability\n",
        ")"
      ],
      "metadata": {
        "id": "h9N-tctvcuFJ"
      },
      "execution_count": 91,
      "outputs": []
    },
    {
      "cell_type": "code",
      "source": [
        "history = model.fit(\n",
        "    train_dataset,\n",
        "    validation_data=test_dataset,\n",
        "    epochs=20\n",
        ")"
      ],
      "metadata": {
        "colab": {
          "base_uri": "https://localhost:8080/"
        },
        "id": "L-LfBXOkdKGW",
        "outputId": "637c4fe4-bb99-43d6-e2a1-818838f418b6"
      },
      "execution_count": 92,
      "outputs": [
        {
          "output_type": "stream",
          "name": "stdout",
          "text": [
            "Epoch 1/20\n",
            "\u001b[1m6/6\u001b[0m \u001b[32m━━━━━━━━━━━━━━━━━━━━\u001b[0m\u001b[37m\u001b[0m \u001b[1m2s\u001b[0m 46ms/step - loss: 24391.6875 - mae: 155.8196 - val_loss: 33175.9336 - val_mae: 182.0867\n",
            "Epoch 2/20\n",
            "\u001b[1m6/6\u001b[0m \u001b[32m━━━━━━━━━━━━━━━━━━━━\u001b[0m\u001b[37m\u001b[0m \u001b[1m0s\u001b[0m 6ms/step - loss: 24980.2402 - mae: 157.6960 - val_loss: 33027.1406 - val_mae: 181.6777\n",
            "Epoch 3/20\n",
            "\u001b[1m6/6\u001b[0m \u001b[32m━━━━━━━━━━━━━━━━━━━━\u001b[0m\u001b[37m\u001b[0m \u001b[1m0s\u001b[0m 6ms/step - loss: 24467.8848 - mae: 156.0198 - val_loss: 32859.9648 - val_mae: 181.2170\n",
            "Epoch 4/20\n",
            "\u001b[1m6/6\u001b[0m \u001b[32m━━━━━━━━━━━━━━━━━━━━\u001b[0m\u001b[37m\u001b[0m \u001b[1m0s\u001b[0m 6ms/step - loss: 24393.4277 - mae: 155.7842 - val_loss: 32668.8340 - val_mae: 180.6889\n",
            "Epoch 5/20\n",
            "\u001b[1m6/6\u001b[0m \u001b[32m━━━━━━━━━━━━━━━━━━━━\u001b[0m\u001b[37m\u001b[0m \u001b[1m0s\u001b[0m 5ms/step - loss: 24125.8438 - mae: 154.9416 - val_loss: 32462.2500 - val_mae: 180.1163\n",
            "Epoch 6/20\n",
            "\u001b[1m6/6\u001b[0m \u001b[32m━━━━━━━━━━━━━━━━━━━━\u001b[0m\u001b[37m\u001b[0m \u001b[1m0s\u001b[0m 6ms/step - loss: 23769.5762 - mae: 153.7571 - val_loss: 32235.6270 - val_mae: 179.4861\n",
            "Epoch 7/20\n",
            "\u001b[1m6/6\u001b[0m \u001b[32m━━━━━━━━━━━━━━━━━━━━\u001b[0m\u001b[37m\u001b[0m \u001b[1m0s\u001b[0m 6ms/step - loss: 23849.0312 - mae: 154.0628 - val_loss: 31988.5801 - val_mae: 178.7966\n",
            "Epoch 8/20\n",
            "\u001b[1m6/6\u001b[0m \u001b[32m━━━━━━━━━━━━━━━━━━━━\u001b[0m\u001b[37m\u001b[0m \u001b[1m0s\u001b[0m 6ms/step - loss: 23725.7051 - mae: 153.5992 - val_loss: 31732.6719 - val_mae: 178.0795\n",
            "Epoch 9/20\n",
            "\u001b[1m6/6\u001b[0m \u001b[32m━━━━━━━━━━━━━━━━━━━━\u001b[0m\u001b[37m\u001b[0m \u001b[1m0s\u001b[0m 9ms/step - loss: 23494.7051 - mae: 152.9023 - val_loss: 31455.4121 - val_mae: 177.2993\n",
            "Epoch 10/20\n",
            "\u001b[1m6/6\u001b[0m \u001b[32m━━━━━━━━━━━━━━━━━━━━\u001b[0m\u001b[37m\u001b[0m \u001b[1m0s\u001b[0m 5ms/step - loss: 23387.4922 - mae: 152.5066 - val_loss: 31163.3594 - val_mae: 176.4738\n",
            "Epoch 11/20\n",
            "\u001b[1m6/6\u001b[0m \u001b[32m━━━━━━━━━━━━━━━━━━━━\u001b[0m\u001b[37m\u001b[0m \u001b[1m0s\u001b[0m 9ms/step - loss: 23304.6055 - mae: 152.2074 - val_loss: 30856.8691 - val_mae: 175.6033\n",
            "Epoch 12/20\n",
            "\u001b[1m6/6\u001b[0m \u001b[32m━━━━━━━━━━━━━━━━━━━━\u001b[0m\u001b[37m\u001b[0m \u001b[1m0s\u001b[0m 6ms/step - loss: 22264.7832 - mae: 148.7961 - val_loss: 30536.1816 - val_mae: 174.6878\n",
            "Epoch 13/20\n",
            "\u001b[1m6/6\u001b[0m \u001b[32m━━━━━━━━━━━━━━━━━━━━\u001b[0m\u001b[37m\u001b[0m \u001b[1m0s\u001b[0m 7ms/step - loss: 22358.6367 - mae: 149.1494 - val_loss: 30199.9160 - val_mae: 173.7227\n",
            "Epoch 14/20\n",
            "\u001b[1m6/6\u001b[0m \u001b[32m━━━━━━━━━━━━━━━━━━━━\u001b[0m\u001b[37m\u001b[0m \u001b[1m0s\u001b[0m 6ms/step - loss: 22067.5254 - mae: 148.1674 - val_loss: 29851.5020 - val_mae: 172.7169\n",
            "Epoch 15/20\n",
            "\u001b[1m6/6\u001b[0m \u001b[32m━━━━━━━━━━━━━━━━━━━━\u001b[0m\u001b[37m\u001b[0m \u001b[1m0s\u001b[0m 7ms/step - loss: 21619.4961 - mae: 146.5776 - val_loss: 29490.3594 - val_mae: 171.6683\n",
            "Epoch 16/20\n",
            "\u001b[1m6/6\u001b[0m \u001b[32m━━━━━━━━━━━━━━━━━━━━\u001b[0m\u001b[37m\u001b[0m \u001b[1m0s\u001b[0m 6ms/step - loss: 21181.5527 - mae: 145.0679 - val_loss: 29114.0684 - val_mae: 170.5688\n",
            "Epoch 17/20\n",
            "\u001b[1m6/6\u001b[0m \u001b[32m━━━━━━━━━━━━━━━━━━━━\u001b[0m\u001b[37m\u001b[0m \u001b[1m0s\u001b[0m 6ms/step - loss: 21160.5312 - mae: 145.0584 - val_loss: 28720.7324 - val_mae: 169.4118\n",
            "Epoch 18/20\n",
            "\u001b[1m6/6\u001b[0m \u001b[32m━━━━━━━━━━━━━━━━━━━━\u001b[0m\u001b[37m\u001b[0m \u001b[1m0s\u001b[0m 6ms/step - loss: 20623.2988 - mae: 143.1172 - val_loss: 28313.8691 - val_mae: 168.2067\n",
            "Epoch 19/20\n",
            "\u001b[1m6/6\u001b[0m \u001b[32m━━━━━━━━━━━━━━━━━━━━\u001b[0m\u001b[37m\u001b[0m \u001b[1m0s\u001b[0m 6ms/step - loss: 20122.9688 - mae: 141.4663 - val_loss: 27892.0215 - val_mae: 166.9481\n",
            "Epoch 20/20\n",
            "\u001b[1m6/6\u001b[0m \u001b[32m━━━━━━━━━━━━━━━━━━━━\u001b[0m\u001b[37m\u001b[0m \u001b[1m0s\u001b[0m 11ms/step - loss: 20176.9668 - mae: 141.6411 - val_loss: 27456.3848 - val_mae: 165.6382\n"
          ]
        }
      ]
    },
    {
      "cell_type": "code",
      "source": [
        "model.summary()"
      ],
      "metadata": {
        "colab": {
          "base_uri": "https://localhost:8080/",
          "height": 273
        },
        "id": "YiIFS34qdaDp",
        "outputId": "42d338a5-6c6a-42de-d858-c2bd836d708f"
      },
      "execution_count": 93,
      "outputs": [
        {
          "output_type": "display_data",
          "data": {
            "text/plain": [
              "\u001b[1mModel: \"sequential_10\"\u001b[0m\n"
            ],
            "text/html": [
              "<pre style=\"white-space:pre;overflow-x:auto;line-height:normal;font-family:Menlo,'DejaVu Sans Mono',consolas,'Courier New',monospace\"><span style=\"font-weight: bold\">Model: \"sequential_10\"</span>\n",
              "</pre>\n"
            ]
          },
          "metadata": {}
        },
        {
          "output_type": "display_data",
          "data": {
            "text/plain": [
              "┏━━━━━━━━━━━━━━━━━━━━━━━━━━━━━━━━━┳━━━━━━━━━━━━━━━━━━━━━━━━┳━━━━━━━━━━━━━━━┓\n",
              "┃\u001b[1m \u001b[0m\u001b[1mLayer (type)                   \u001b[0m\u001b[1m \u001b[0m┃\u001b[1m \u001b[0m\u001b[1mOutput Shape          \u001b[0m\u001b[1m \u001b[0m┃\u001b[1m \u001b[0m\u001b[1m      Param #\u001b[0m\u001b[1m \u001b[0m┃\n",
              "┡━━━━━━━━━━━━━━━━━━━━━━━━━━━━━━━━━╇━━━━━━━━━━━━━━━━━━━━━━━━╇━━━━━━━━━━━━━━━┩\n",
              "│ lstm_11 (\u001b[38;5;33mLSTM\u001b[0m)                  │ (\u001b[38;5;45mNone\u001b[0m, \u001b[38;5;34m64\u001b[0m)             │        \u001b[38;5;34m17,920\u001b[0m │\n",
              "├─────────────────────────────────┼────────────────────────┼───────────────┤\n",
              "│ dropout_6 (\u001b[38;5;33mDropout\u001b[0m)             │ (\u001b[38;5;45mNone\u001b[0m, \u001b[38;5;34m64\u001b[0m)             │             \u001b[38;5;34m0\u001b[0m │\n",
              "├─────────────────────────────────┼────────────────────────┼───────────────┤\n",
              "│ dense_16 (\u001b[38;5;33mDense\u001b[0m)                │ (\u001b[38;5;45mNone\u001b[0m, \u001b[38;5;34m32\u001b[0m)             │         \u001b[38;5;34m2,080\u001b[0m │\n",
              "├─────────────────────────────────┼────────────────────────┼───────────────┤\n",
              "│ dense_17 (\u001b[38;5;33mDense\u001b[0m)                │ (\u001b[38;5;45mNone\u001b[0m, \u001b[38;5;34m1\u001b[0m)              │            \u001b[38;5;34m33\u001b[0m │\n",
              "└─────────────────────────────────┴────────────────────────┴───────────────┘\n"
            ],
            "text/html": [
              "<pre style=\"white-space:pre;overflow-x:auto;line-height:normal;font-family:Menlo,'DejaVu Sans Mono',consolas,'Courier New',monospace\">┏━━━━━━━━━━━━━━━━━━━━━━━━━━━━━━━━━┳━━━━━━━━━━━━━━━━━━━━━━━━┳━━━━━━━━━━━━━━━┓\n",
              "┃<span style=\"font-weight: bold\"> Layer (type)                    </span>┃<span style=\"font-weight: bold\"> Output Shape           </span>┃<span style=\"font-weight: bold\">       Param # </span>┃\n",
              "┡━━━━━━━━━━━━━━━━━━━━━━━━━━━━━━━━━╇━━━━━━━━━━━━━━━━━━━━━━━━╇━━━━━━━━━━━━━━━┩\n",
              "│ lstm_11 (<span style=\"color: #0087ff; text-decoration-color: #0087ff\">LSTM</span>)                  │ (<span style=\"color: #00d7ff; text-decoration-color: #00d7ff\">None</span>, <span style=\"color: #00af00; text-decoration-color: #00af00\">64</span>)             │        <span style=\"color: #00af00; text-decoration-color: #00af00\">17,920</span> │\n",
              "├─────────────────────────────────┼────────────────────────┼───────────────┤\n",
              "│ dropout_6 (<span style=\"color: #0087ff; text-decoration-color: #0087ff\">Dropout</span>)             │ (<span style=\"color: #00d7ff; text-decoration-color: #00d7ff\">None</span>, <span style=\"color: #00af00; text-decoration-color: #00af00\">64</span>)             │             <span style=\"color: #00af00; text-decoration-color: #00af00\">0</span> │\n",
              "├─────────────────────────────────┼────────────────────────┼───────────────┤\n",
              "│ dense_16 (<span style=\"color: #0087ff; text-decoration-color: #0087ff\">Dense</span>)                │ (<span style=\"color: #00d7ff; text-decoration-color: #00d7ff\">None</span>, <span style=\"color: #00af00; text-decoration-color: #00af00\">32</span>)             │         <span style=\"color: #00af00; text-decoration-color: #00af00\">2,080</span> │\n",
              "├─────────────────────────────────┼────────────────────────┼───────────────┤\n",
              "│ dense_17 (<span style=\"color: #0087ff; text-decoration-color: #0087ff\">Dense</span>)                │ (<span style=\"color: #00d7ff; text-decoration-color: #00d7ff\">None</span>, <span style=\"color: #00af00; text-decoration-color: #00af00\">1</span>)              │            <span style=\"color: #00af00; text-decoration-color: #00af00\">33</span> │\n",
              "└─────────────────────────────────┴────────────────────────┴───────────────┘\n",
              "</pre>\n"
            ]
          },
          "metadata": {}
        },
        {
          "output_type": "display_data",
          "data": {
            "text/plain": [
              "\u001b[1m Total params: \u001b[0m\u001b[38;5;34m60,101\u001b[0m (234.77 KB)\n"
            ],
            "text/html": [
              "<pre style=\"white-space:pre;overflow-x:auto;line-height:normal;font-family:Menlo,'DejaVu Sans Mono',consolas,'Courier New',monospace\"><span style=\"font-weight: bold\"> Total params: </span><span style=\"color: #00af00; text-decoration-color: #00af00\">60,101</span> (234.77 KB)\n",
              "</pre>\n"
            ]
          },
          "metadata": {}
        },
        {
          "output_type": "display_data",
          "data": {
            "text/plain": [
              "\u001b[1m Trainable params: \u001b[0m\u001b[38;5;34m20,033\u001b[0m (78.25 KB)\n"
            ],
            "text/html": [
              "<pre style=\"white-space:pre;overflow-x:auto;line-height:normal;font-family:Menlo,'DejaVu Sans Mono',consolas,'Courier New',monospace\"><span style=\"font-weight: bold\"> Trainable params: </span><span style=\"color: #00af00; text-decoration-color: #00af00\">20,033</span> (78.25 KB)\n",
              "</pre>\n"
            ]
          },
          "metadata": {}
        },
        {
          "output_type": "display_data",
          "data": {
            "text/plain": [
              "\u001b[1m Non-trainable params: \u001b[0m\u001b[38;5;34m0\u001b[0m (0.00 B)\n"
            ],
            "text/html": [
              "<pre style=\"white-space:pre;overflow-x:auto;line-height:normal;font-family:Menlo,'DejaVu Sans Mono',consolas,'Courier New',monospace\"><span style=\"font-weight: bold\"> Non-trainable params: </span><span style=\"color: #00af00; text-decoration-color: #00af00\">0</span> (0.00 B)\n",
              "</pre>\n"
            ]
          },
          "metadata": {}
        },
        {
          "output_type": "display_data",
          "data": {
            "text/plain": [
              "\u001b[1m Optimizer params: \u001b[0m\u001b[38;5;34m40,068\u001b[0m (156.52 KB)\n"
            ],
            "text/html": [
              "<pre style=\"white-space:pre;overflow-x:auto;line-height:normal;font-family:Menlo,'DejaVu Sans Mono',consolas,'Courier New',monospace\"><span style=\"font-weight: bold\"> Optimizer params: </span><span style=\"color: #00af00; text-decoration-color: #00af00\">40,068</span> (156.52 KB)\n",
              "</pre>\n"
            ]
          },
          "metadata": {}
        }
      ]
    },
    {
      "cell_type": "markdown",
      "source": [
        "Now we make predictions on the dataset:"
      ],
      "metadata": {
        "id": "mu-2m3HJdqx_"
      }
    },
    {
      "cell_type": "code",
      "source": [
        "# Predict on test dataset\n",
        "y_pred = model.predict(test_dataset)\n",
        "\n",
        "# If your y_test is batched, you may need to flatten it\n",
        "y_true = np.concatenate([y for x, y in test_dataset], axis=0)\n"
      ],
      "metadata": {
        "colab": {
          "base_uri": "https://localhost:8080/"
        },
        "id": "1UjnpiKydwG5",
        "outputId": "df665685-6e14-4a9e-9e5f-3827bfffa8b8"
      },
      "execution_count": 94,
      "outputs": [
        {
          "output_type": "stream",
          "name": "stdout",
          "text": [
            "\u001b[1m2/2\u001b[0m \u001b[32m━━━━━━━━━━━━━━━━━━━━\u001b[0m\u001b[37m\u001b[0m \u001b[1m0s\u001b[0m 120ms/step\n"
          ]
        }
      ]
    },
    {
      "cell_type": "code",
      "source": [
        "# Assuming Close price was the second feature (index 1)\n",
        "close_min = tf.reduce_min(dta['Close'].values)\n",
        "close_max = tf.reduce_max(dta['Close'].values)\n",
        "\n",
        "y_pred_rescaled = y_pred * (close_max - close_min) + close_min\n",
        "y_true_rescaled = y_true * (close_max - close_min) + close_min\n"
      ],
      "metadata": {
        "id": "vTTSGskId5Y3"
      },
      "execution_count": 95,
      "outputs": []
    },
    {
      "cell_type": "markdown",
      "source": [
        "#Putting it all together:"
      ],
      "metadata": {
        "id": "A6sqg78XjnJl"
      }
    },
    {
      "cell_type": "code",
      "source": [
        "# ================================================\n",
        "# Complete LSTM pipeline using NumPy arrays for prediction\n",
        "# ================================================\n",
        "\n",
        "import yfinance as yf\n",
        "import numpy as np\n",
        "import tensorflow as tf\n",
        "from tensorflow.keras import Sequential\n",
        "from tensorflow.keras.layers import LSTM, Dense, Dropout\n",
        "import matplotlib.pyplot as plt\n",
        "from sklearn.metrics import mean_squared_error, mean_absolute_error\n",
        "\n",
        "# ------------------------------\n",
        "# 1️⃣ Download historical stock data\n",
        "# ------------------------------\n",
        "data = yf.download(\"AAPL\", start=\"2025-01-01\", end=\"2025-09-01\",auto_adjust=False)\n",
        "data.columns = data.columns.droplevel(1)\n",
        "# Use Open, Close, Volume as features\n",
        "features = data[['Open', 'Close', 'Volume']].values.astype(np.float32)\n",
        "\n",
        "# ------------------------------\n",
        "# 2️⃣ Normalize features\n",
        "# ------------------------------\n",
        "min_vals = features.min(axis=0)\n",
        "max_vals = features.max(axis=0)\n",
        "normalized_features = (features - min_vals) / (max_vals - min_vals)\n",
        "\n",
        "# ------------------------------\n",
        "# 3️⃣ Create sequences (sliding window)\n",
        "# ------------------------------\n",
        "sequence_length = 5\n",
        "X = []\n",
        "y = []\n",
        "\n",
        "for i in range(len(normalized_features) - sequence_length):\n",
        "    X.append(normalized_features[i:i+sequence_length])\n",
        "    y.append(normalized_features[i+sequence_length, 1])  # predict next-day Close\n",
        "\n",
        "X = np.array(X, dtype=np.float32)\n",
        "y = np.array(y, dtype=np.float32)\n",
        "\n",
        "# ------------------------------\n",
        "# 4️⃣ Train/Test split\n",
        "# ------------------------------\n",
        "split = int(0.8 * len(X))\n",
        "X_train, X_test = X[:split], X[split:]\n",
        "y_train, y_test = y[:split], y[split:]\n",
        "\n",
        "# ------------------------------\n",
        "# 5️⃣ Build LSTM model\n",
        "# ------------------------------\n",
        "model = Sequential([\n",
        "    LSTM(64, input_shape=(sequence_length, X_train.shape[2])),\n",
        "    Dropout(0.2),\n",
        "    Dense(32, activation='relu'),\n",
        "    Dense(1)\n",
        "])\n",
        "\n",
        "model.compile(optimizer=tf.keras.optimizers.Adam(0.001), loss='mse', metrics=['mae'])\n",
        "model.summary()\n",
        "\n",
        "# ------------------------------\n",
        "# 6️⃣ Train model\n",
        "# ------------------------------\n",
        "history = model.fit(X_train, y_train, validation_data=(X_test, y_test), epochs=20, batch_size=16)\n",
        "\n",
        "# ------------------------------\n",
        "# 7️⃣ Predict directly on X_test\n",
        "# ------------------------------\n",
        "y_pred = model.predict(X_test).flatten()  # flatten to 1D\n",
        "y_true = y_test  # already 1D\n",
        "\n",
        "# ------------------------------\n",
        "# 8️⃣ Rescale predictions to original price\n",
        "# ------------------------------\n",
        "close_min = data['Close'].min()\n",
        "close_max = data['Close'].max()\n",
        "\n",
        "y_pred_rescaled = y_pred * (close_max - close_min) + close_min\n",
        "y_true_rescaled = y_true * (close_max - close_min) + close_min\n",
        "\n",
        "# ------------------------------\n",
        "# 9️⃣ Plot Actual vs Predicted\n",
        "# ------------------------------\n",
        "plt.figure(figsize=(12,6))\n",
        "plt.plot(y_true_rescaled, label='Actual')\n",
        "plt.plot(y_pred_rescaled, label='Predicted')\n",
        "plt.xlabel(\"Time Steps\")\n",
        "plt.ylabel(\"Close Price\")\n",
        "plt.title(\"LSTM: Actual vs Predicted Close Prices\")\n",
        "plt.legend()\n",
        "plt.show()\n",
        "\n",
        "# ------------------------------\n",
        "# 10️⃣ Evaluate performance\n",
        "# ------------------------------\n",
        "mse = mean_squared_error(y_true_rescaled, y_pred_rescaled)\n",
        "mae = mean_absolute_error(y_true_rescaled, y_pred_rescaled)\n",
        "\n",
        "print(f\"MSE: {mse:.4f}, MAE: {mae:.4f}\")\n"
      ],
      "metadata": {
        "colab": {
          "base_uri": "https://localhost:8080/",
          "height": 1000
        },
        "id": "Ba7pz8L_eCI4",
        "outputId": "21ae522e-d727-48b5-994e-1dd06f3a808f"
      },
      "execution_count": 99,
      "outputs": [
        {
          "output_type": "stream",
          "name": "stderr",
          "text": [
            "\r[*********************100%***********************]  1 of 1 completed\n",
            "/usr/local/lib/python3.12/dist-packages/keras/src/layers/rnn/rnn.py:199: UserWarning: Do not pass an `input_shape`/`input_dim` argument to a layer. When using Sequential models, prefer using an `Input(shape)` object as the first layer in the model instead.\n",
            "  super().__init__(**kwargs)\n"
          ]
        },
        {
          "output_type": "display_data",
          "data": {
            "text/plain": [
              "\u001b[1mModel: \"sequential_13\"\u001b[0m\n"
            ],
            "text/html": [
              "<pre style=\"white-space:pre;overflow-x:auto;line-height:normal;font-family:Menlo,'DejaVu Sans Mono',consolas,'Courier New',monospace\"><span style=\"font-weight: bold\">Model: \"sequential_13\"</span>\n",
              "</pre>\n"
            ]
          },
          "metadata": {}
        },
        {
          "output_type": "display_data",
          "data": {
            "text/plain": [
              "┏━━━━━━━━━━━━━━━━━━━━━━━━━━━━━━━━━┳━━━━━━━━━━━━━━━━━━━━━━━━┳━━━━━━━━━━━━━━━┓\n",
              "┃\u001b[1m \u001b[0m\u001b[1mLayer (type)                   \u001b[0m\u001b[1m \u001b[0m┃\u001b[1m \u001b[0m\u001b[1mOutput Shape          \u001b[0m\u001b[1m \u001b[0m┃\u001b[1m \u001b[0m\u001b[1m      Param #\u001b[0m\u001b[1m \u001b[0m┃\n",
              "┡━━━━━━━━━━━━━━━━━━━━━━━━━━━━━━━━━╇━━━━━━━━━━━━━━━━━━━━━━━━╇━━━━━━━━━━━━━━━┩\n",
              "│ lstm_14 (\u001b[38;5;33mLSTM\u001b[0m)                  │ (\u001b[38;5;45mNone\u001b[0m, \u001b[38;5;34m64\u001b[0m)             │        \u001b[38;5;34m17,408\u001b[0m │\n",
              "├─────────────────────────────────┼────────────────────────┼───────────────┤\n",
              "│ dropout_9 (\u001b[38;5;33mDropout\u001b[0m)             │ (\u001b[38;5;45mNone\u001b[0m, \u001b[38;5;34m64\u001b[0m)             │             \u001b[38;5;34m0\u001b[0m │\n",
              "├─────────────────────────────────┼────────────────────────┼───────────────┤\n",
              "│ dense_22 (\u001b[38;5;33mDense\u001b[0m)                │ (\u001b[38;5;45mNone\u001b[0m, \u001b[38;5;34m32\u001b[0m)             │         \u001b[38;5;34m2,080\u001b[0m │\n",
              "├─────────────────────────────────┼────────────────────────┼───────────────┤\n",
              "│ dense_23 (\u001b[38;5;33mDense\u001b[0m)                │ (\u001b[38;5;45mNone\u001b[0m, \u001b[38;5;34m1\u001b[0m)              │            \u001b[38;5;34m33\u001b[0m │\n",
              "└─────────────────────────────────┴────────────────────────┴───────────────┘\n"
            ],
            "text/html": [
              "<pre style=\"white-space:pre;overflow-x:auto;line-height:normal;font-family:Menlo,'DejaVu Sans Mono',consolas,'Courier New',monospace\">┏━━━━━━━━━━━━━━━━━━━━━━━━━━━━━━━━━┳━━━━━━━━━━━━━━━━━━━━━━━━┳━━━━━━━━━━━━━━━┓\n",
              "┃<span style=\"font-weight: bold\"> Layer (type)                    </span>┃<span style=\"font-weight: bold\"> Output Shape           </span>┃<span style=\"font-weight: bold\">       Param # </span>┃\n",
              "┡━━━━━━━━━━━━━━━━━━━━━━━━━━━━━━━━━╇━━━━━━━━━━━━━━━━━━━━━━━━╇━━━━━━━━━━━━━━━┩\n",
              "│ lstm_14 (<span style=\"color: #0087ff; text-decoration-color: #0087ff\">LSTM</span>)                  │ (<span style=\"color: #00d7ff; text-decoration-color: #00d7ff\">None</span>, <span style=\"color: #00af00; text-decoration-color: #00af00\">64</span>)             │        <span style=\"color: #00af00; text-decoration-color: #00af00\">17,408</span> │\n",
              "├─────────────────────────────────┼────────────────────────┼───────────────┤\n",
              "│ dropout_9 (<span style=\"color: #0087ff; text-decoration-color: #0087ff\">Dropout</span>)             │ (<span style=\"color: #00d7ff; text-decoration-color: #00d7ff\">None</span>, <span style=\"color: #00af00; text-decoration-color: #00af00\">64</span>)             │             <span style=\"color: #00af00; text-decoration-color: #00af00\">0</span> │\n",
              "├─────────────────────────────────┼────────────────────────┼───────────────┤\n",
              "│ dense_22 (<span style=\"color: #0087ff; text-decoration-color: #0087ff\">Dense</span>)                │ (<span style=\"color: #00d7ff; text-decoration-color: #00d7ff\">None</span>, <span style=\"color: #00af00; text-decoration-color: #00af00\">32</span>)             │         <span style=\"color: #00af00; text-decoration-color: #00af00\">2,080</span> │\n",
              "├─────────────────────────────────┼────────────────────────┼───────────────┤\n",
              "│ dense_23 (<span style=\"color: #0087ff; text-decoration-color: #0087ff\">Dense</span>)                │ (<span style=\"color: #00d7ff; text-decoration-color: #00d7ff\">None</span>, <span style=\"color: #00af00; text-decoration-color: #00af00\">1</span>)              │            <span style=\"color: #00af00; text-decoration-color: #00af00\">33</span> │\n",
              "└─────────────────────────────────┴────────────────────────┴───────────────┘\n",
              "</pre>\n"
            ]
          },
          "metadata": {}
        },
        {
          "output_type": "display_data",
          "data": {
            "text/plain": [
              "\u001b[1m Total params: \u001b[0m\u001b[38;5;34m19,521\u001b[0m (76.25 KB)\n"
            ],
            "text/html": [
              "<pre style=\"white-space:pre;overflow-x:auto;line-height:normal;font-family:Menlo,'DejaVu Sans Mono',consolas,'Courier New',monospace\"><span style=\"font-weight: bold\"> Total params: </span><span style=\"color: #00af00; text-decoration-color: #00af00\">19,521</span> (76.25 KB)\n",
              "</pre>\n"
            ]
          },
          "metadata": {}
        },
        {
          "output_type": "display_data",
          "data": {
            "text/plain": [
              "\u001b[1m Trainable params: \u001b[0m\u001b[38;5;34m19,521\u001b[0m (76.25 KB)\n"
            ],
            "text/html": [
              "<pre style=\"white-space:pre;overflow-x:auto;line-height:normal;font-family:Menlo,'DejaVu Sans Mono',consolas,'Courier New',monospace\"><span style=\"font-weight: bold\"> Trainable params: </span><span style=\"color: #00af00; text-decoration-color: #00af00\">19,521</span> (76.25 KB)\n",
              "</pre>\n"
            ]
          },
          "metadata": {}
        },
        {
          "output_type": "display_data",
          "data": {
            "text/plain": [
              "\u001b[1m Non-trainable params: \u001b[0m\u001b[38;5;34m0\u001b[0m (0.00 B)\n"
            ],
            "text/html": [
              "<pre style=\"white-space:pre;overflow-x:auto;line-height:normal;font-family:Menlo,'DejaVu Sans Mono',consolas,'Courier New',monospace\"><span style=\"font-weight: bold\"> Non-trainable params: </span><span style=\"color: #00af00; text-decoration-color: #00af00\">0</span> (0.00 B)\n",
              "</pre>\n"
            ]
          },
          "metadata": {}
        },
        {
          "output_type": "stream",
          "name": "stdout",
          "text": [
            "Epoch 1/20\n",
            "\u001b[1m6/6\u001b[0m \u001b[32m━━━━━━━━━━━━━━━━━━━━\u001b[0m\u001b[37m\u001b[0m \u001b[1m2s\u001b[0m 60ms/step - loss: 0.2860 - mae: 0.4940 - val_loss: 0.4277 - val_mae: 0.6515\n",
            "Epoch 2/20\n",
            "\u001b[1m6/6\u001b[0m \u001b[32m━━━━━━━━━━━━━━━━━━━━\u001b[0m\u001b[37m\u001b[0m \u001b[1m0s\u001b[0m 13ms/step - loss: 0.1205 - mae: 0.3141 - val_loss: 0.1483 - val_mae: 0.3822\n",
            "Epoch 3/20\n",
            "\u001b[1m6/6\u001b[0m \u001b[32m━━━━━━━━━━━━━━━━━━━━\u001b[0m\u001b[37m\u001b[0m \u001b[1m0s\u001b[0m 13ms/step - loss: 0.0232 - mae: 0.1273 - val_loss: 0.0082 - val_mae: 0.0816\n",
            "Epoch 4/20\n",
            "\u001b[1m6/6\u001b[0m \u001b[32m━━━━━━━━━━━━━━━━━━━━\u001b[0m\u001b[37m\u001b[0m \u001b[1m0s\u001b[0m 12ms/step - loss: 0.0102 - mae: 0.0846 - val_loss: 0.0041 - val_mae: 0.0525\n",
            "Epoch 5/20\n",
            "\u001b[1m6/6\u001b[0m \u001b[32m━━━━━━━━━━━━━━━━━━━━\u001b[0m\u001b[37m\u001b[0m \u001b[1m0s\u001b[0m 13ms/step - loss: 0.0142 - mae: 0.1022 - val_loss: 0.0053 - val_mae: 0.0644\n",
            "Epoch 6/20\n",
            "\u001b[1m6/6\u001b[0m \u001b[32m━━━━━━━━━━━━━━━━━━━━\u001b[0m\u001b[37m\u001b[0m \u001b[1m0s\u001b[0m 13ms/step - loss: 0.0048 - mae: 0.0574 - val_loss: 0.0294 - val_mae: 0.1674\n",
            "Epoch 7/20\n",
            "\u001b[1m6/6\u001b[0m \u001b[32m━━━━━━━━━━━━━━━━━━━━\u001b[0m\u001b[37m\u001b[0m \u001b[1m0s\u001b[0m 13ms/step - loss: 0.0067 - mae: 0.0682 - val_loss: 0.0277 - val_mae: 0.1628\n",
            "Epoch 8/20\n",
            "\u001b[1m6/6\u001b[0m \u001b[32m━━━━━━━━━━━━━━━━━━━━\u001b[0m\u001b[37m\u001b[0m \u001b[1m0s\u001b[0m 12ms/step - loss: 0.0044 - mae: 0.0544 - val_loss: 0.0121 - val_mae: 0.1053\n",
            "Epoch 9/20\n",
            "\u001b[1m6/6\u001b[0m \u001b[32m━━━━━━━━━━━━━━━━━━━━\u001b[0m\u001b[37m\u001b[0m \u001b[1m0s\u001b[0m 13ms/step - loss: 0.0034 - mae: 0.0474 - val_loss: 0.0054 - val_mae: 0.0678\n",
            "Epoch 10/20\n",
            "\u001b[1m6/6\u001b[0m \u001b[32m━━━━━━━━━━━━━━━━━━━━\u001b[0m\u001b[37m\u001b[0m \u001b[1m0s\u001b[0m 13ms/step - loss: 0.0031 - mae: 0.0468 - val_loss: 0.0062 - val_mae: 0.0734\n",
            "Epoch 11/20\n",
            "\u001b[1m6/6\u001b[0m \u001b[32m━━━━━━━━━━━━━━━━━━━━\u001b[0m\u001b[37m\u001b[0m \u001b[1m0s\u001b[0m 13ms/step - loss: 0.0040 - mae: 0.0496 - val_loss: 0.0093 - val_mae: 0.0923\n",
            "Epoch 12/20\n",
            "\u001b[1m6/6\u001b[0m \u001b[32m━━━━━━━━━━━━━━━━━━━━\u001b[0m\u001b[37m\u001b[0m \u001b[1m0s\u001b[0m 14ms/step - loss: 0.0031 - mae: 0.0463 - val_loss: 0.0088 - val_mae: 0.0897\n",
            "Epoch 13/20\n",
            "\u001b[1m6/6\u001b[0m \u001b[32m━━━━━━━━━━━━━━━━━━━━\u001b[0m\u001b[37m\u001b[0m \u001b[1m0s\u001b[0m 12ms/step - loss: 0.0033 - mae: 0.0469 - val_loss: 0.0055 - val_mae: 0.0695\n",
            "Epoch 14/20\n",
            "\u001b[1m6/6\u001b[0m \u001b[32m━━━━━━━━━━━━━━━━━━━━\u001b[0m\u001b[37m\u001b[0m \u001b[1m0s\u001b[0m 13ms/step - loss: 0.0037 - mae: 0.0480 - val_loss: 0.0065 - val_mae: 0.0767\n",
            "Epoch 15/20\n",
            "\u001b[1m6/6\u001b[0m \u001b[32m━━━━━━━━━━━━━━━━━━━━\u001b[0m\u001b[37m\u001b[0m \u001b[1m0s\u001b[0m 13ms/step - loss: 0.0032 - mae: 0.0463 - val_loss: 0.0074 - val_mae: 0.0823\n",
            "Epoch 16/20\n",
            "\u001b[1m6/6\u001b[0m \u001b[32m━━━━━━━━━━━━━━━━━━━━\u001b[0m\u001b[37m\u001b[0m \u001b[1m0s\u001b[0m 12ms/step - loss: 0.0035 - mae: 0.0500 - val_loss: 0.0051 - val_mae: 0.0672\n",
            "Epoch 17/20\n",
            "\u001b[1m6/6\u001b[0m \u001b[32m━━━━━━━━━━━━━━━━━━━━\u001b[0m\u001b[37m\u001b[0m \u001b[1m0s\u001b[0m 16ms/step - loss: 0.0030 - mae: 0.0443 - val_loss: 0.0056 - val_mae: 0.0708\n",
            "Epoch 18/20\n",
            "\u001b[1m6/6\u001b[0m \u001b[32m━━━━━━━━━━━━━━━━━━━━\u001b[0m\u001b[37m\u001b[0m \u001b[1m0s\u001b[0m 13ms/step - loss: 0.0032 - mae: 0.0445 - val_loss: 0.0051 - val_mae: 0.0668\n",
            "Epoch 19/20\n",
            "\u001b[1m6/6\u001b[0m \u001b[32m━━━━━━━━━━━━━━━━━━━━\u001b[0m\u001b[37m\u001b[0m \u001b[1m0s\u001b[0m 13ms/step - loss: 0.0023 - mae: 0.0379 - val_loss: 0.0042 - val_mae: 0.0594\n",
            "Epoch 20/20\n",
            "\u001b[1m6/6\u001b[0m \u001b[32m━━━━━━━━━━━━━━━━━━━━\u001b[0m\u001b[37m\u001b[0m \u001b[1m0s\u001b[0m 13ms/step - loss: 0.0040 - mae: 0.0489 - val_loss: 0.0022 - val_mae: 0.0404\n",
            "\u001b[1m1/1\u001b[0m \u001b[32m━━━━━━━━━━━━━━━━━━━━\u001b[0m\u001b[37m\u001b[0m \u001b[1m0s\u001b[0m 126ms/step\n"
          ]
        },
        {
          "output_type": "display_data",
          "data": {
            "text/plain": [
              "<Figure size 1200x600 with 1 Axes>"
            ],
            "image/png": "[encoded data removed]"
          },
          "metadata": {}
        },
        {
          "output_type": "stream",
          "name": "stdout",
          "text": [
            "MSE: 10.2335, MAE: 2.7823\n"
          ]
        }
      ]
    },
    {
      "cell_type": "code",
      "source": [
        "import yfinance as yf\n",
        "import numpy as np\n",
        "import tensorflow as tf\n",
        "from tensorflow.keras import Sequential\n",
        "from tensorflow.keras.layers import LSTM, Dense, Dropout\n",
        "import matplotlib.pyplot as plt\n",
        "from sklearn.metrics import mean_squared_error, mean_absolute_error\n",
        "\n",
        "# ------------------------------\n",
        "# Download historical stock data\n",
        "# ------------------------------\n",
        "data = yf.download(\"AAPL\", start=\"2025-01-01\", end=\"2025-09-01\",auto_adjust=False)\n",
        "data.columns = data.columns.droplevel(1)\n",
        "# Use Open, Close, Volume as features\n",
        "features = data[['Open', 'Close', 'Volume']].values.astype(np.float32)\n",
        "close_prices = data['Close'].values\n",
        "# Normalize\n",
        "close_min, close_max = close_prices.min(), close_prices.max()\n",
        "close_norm = (close_prices - close_min) / (close_max - close_min)\n",
        "\n",
        "# Parameters\n",
        "past_steps = 5    # use past 5 days\n",
        "future_steps = 3  # predict next 3 days"
      ],
      "metadata": {
        "colab": {
          "base_uri": "https://localhost:8080/"
        },
        "id": "nT_4mY_Ih6c7",
        "outputId": "7a7ab1cf-3def-4a13-f754-34c5714746de"
      },
      "execution_count": 2,
      "outputs": [
        {
          "output_type": "stream",
          "name": "stderr",
          "text": [
            "\r[*********************100%***********************]  1 of 1 completed\n"
          ]
        }
      ]
    },
    {
      "cell_type": "code",
      "source": [
        "# ====================================\n",
        "# 2. Create sequences\n",
        "# ====================================\n",
        "X, y = [], []\n",
        "for i in range(len(close_norm) - past_steps - future_steps + 1):\n",
        "    X.append(close_norm[i : i + past_steps])\n",
        "    y.append(close_norm[i + past_steps : i + past_steps + future_steps])\n",
        "\n",
        "X = np.array(X)\n",
        "y = np.array(y)\n",
        "\n",
        "# Reshape X for LSTM: (samples, timesteps, features)\n",
        "X = X.reshape((X.shape[0], past_steps, 1))\n",
        "\n",
        "# Split train/test\n",
        "split = int(len(X) * 0.8)\n",
        "X_train, X_test = X[:split], X[split:]\n",
        "y_train, y_test = y[:split], y[split:]"
      ],
      "metadata": {
        "id": "Wo49xCHWok0y"
      },
      "execution_count": 3,
      "outputs": []
    },
    {
      "cell_type": "code",
      "source": [
        "# ====================================\n",
        "# 3. Build model\n",
        "# ====================================\n",
        "model = tf.keras.Sequential([\n",
        "    tf.keras.layers.LSTM(64, activation=\"relu\", input_shape=(past_steps, 1)),\n",
        "    tf.keras.layers.Dense(future_steps)  # output 3 future values\n",
        "])\n",
        "\n",
        "model.compile(optimizer=\"adam\", loss=\"mse\", metrics=[\"mae\"])"
      ],
      "metadata": {
        "colab": {
          "base_uri": "https://localhost:8080/"
        },
        "id": "NYu1N9HwooIS",
        "outputId": "433796d3-42e6-4203-d536-5aecd870e968"
      },
      "execution_count": 4,
      "outputs": [
        {
          "output_type": "stream",
          "name": "stderr",
          "text": [
            "/usr/local/lib/python3.12/dist-packages/keras/src/layers/rnn/rnn.py:199: UserWarning: Do not pass an `input_shape`/`input_dim` argument to a layer. When using Sequential models, prefer using an `Input(shape)` object as the first layer in the model instead.\n",
            "  super().__init__(**kwargs)\n"
          ]
        }
      ]
    },
    {
      "cell_type": "code",
      "source": [
        "# ====================================\n",
        "# 4. Train model\n",
        "# ====================================\n",
        "history = model.fit(\n",
        "    X_train, y_train,\n",
        "    validation_data=(X_test, y_test),\n",
        "    epochs=20,\n",
        "    batch_size=16,\n",
        "    verbose=1\n",
        ")"
      ],
      "metadata": {
        "colab": {
          "base_uri": "https://localhost:8080/"
        },
        "id": "s77GbCP3pBe2",
        "outputId": "8c31f5ae-009e-4a01-8325-eb0259225fbe"
      },
      "execution_count": 5,
      "outputs": [
        {
          "output_type": "stream",
          "name": "stdout",
          "text": [
            "Epoch 1/20\n",
            "\u001b[1m8/8\u001b[0m \u001b[32m━━━━━━━━━━━━━━━━━━━━\u001b[0m\u001b[37m\u001b[0m \u001b[1m3s\u001b[0m 56ms/step - loss: 0.3970 - mae: 0.5834 - val_loss: 0.3818 - val_mae: 0.6014\n",
            "Epoch 2/20\n",
            "\u001b[1m8/8\u001b[0m \u001b[32m━━━━━━━━━━━━━━━━━━━━\u001b[0m\u001b[37m\u001b[0m \u001b[1m0s\u001b[0m 14ms/step - loss: 0.3177 - mae: 0.5207 - val_loss: 0.3222 - val_mae: 0.5503\n",
            "Epoch 3/20\n",
            "\u001b[1m8/8\u001b[0m \u001b[32m━━━━━━━━━━━━━━━━━━━━\u001b[0m\u001b[37m\u001b[0m \u001b[1m0s\u001b[0m 13ms/step - loss: 0.2850 - mae: 0.4878 - val_loss: 0.2581 - val_mae: 0.4888\n",
            "Epoch 4/20\n",
            "\u001b[1m8/8\u001b[0m \u001b[32m━━━━━━━━━━━━━━━━━━━━\u001b[0m\u001b[37m\u001b[0m \u001b[1m0s\u001b[0m 15ms/step - loss: 0.2013 - mae: 0.4042 - val_loss: 0.1831 - val_mae: 0.4034\n",
            "Epoch 5/20\n",
            "\u001b[1m8/8\u001b[0m \u001b[32m━━━━━━━━━━━━━━━━━━━━\u001b[0m\u001b[37m\u001b[0m \u001b[1m0s\u001b[0m 14ms/step - loss: 0.1466 - mae: 0.3309 - val_loss: 0.0957 - val_mae: 0.2695\n",
            "Epoch 6/20\n",
            "\u001b[1m8/8\u001b[0m \u001b[32m━━━━━━━━━━━━━━━━━━━━\u001b[0m\u001b[37m\u001b[0m \u001b[1m0s\u001b[0m 13ms/step - loss: 0.0779 - mae: 0.2182 - val_loss: 0.0304 - val_mae: 0.1358\n",
            "Epoch 7/20\n",
            "\u001b[1m8/8\u001b[0m \u001b[32m━━━━━━━━━━━━━━━━━━━━\u001b[0m\u001b[37m\u001b[0m \u001b[1m0s\u001b[0m 14ms/step - loss: 0.0312 - mae: 0.1359 - val_loss: 0.0144 - val_mae: 0.0994\n",
            "Epoch 8/20\n",
            "\u001b[1m8/8\u001b[0m \u001b[32m━━━━━━━━━━━━━━━━━━━━\u001b[0m\u001b[37m\u001b[0m \u001b[1m0s\u001b[0m 14ms/step - loss: 0.0207 - mae: 0.1096 - val_loss: 0.0135 - val_mae: 0.0884\n",
            "Epoch 9/20\n",
            "\u001b[1m8/8\u001b[0m \u001b[32m━━━━━━━━━━━━━━━━━━━━\u001b[0m\u001b[37m\u001b[0m \u001b[1m0s\u001b[0m 15ms/step - loss: 0.0209 - mae: 0.1076 - val_loss: 0.0195 - val_mae: 0.1111\n",
            "Epoch 10/20\n",
            "\u001b[1m8/8\u001b[0m \u001b[32m━━━━━━━━━━━━━━━━━━━━\u001b[0m\u001b[37m\u001b[0m \u001b[1m0s\u001b[0m 13ms/step - loss: 0.0183 - mae: 0.1007 - val_loss: 0.0144 - val_mae: 0.0913\n",
            "Epoch 11/20\n",
            "\u001b[1m8/8\u001b[0m \u001b[32m━━━━━━━━━━━━━━━━━━━━\u001b[0m\u001b[37m\u001b[0m \u001b[1m0s\u001b[0m 14ms/step - loss: 0.0172 - mae: 0.1001 - val_loss: 0.0119 - val_mae: 0.0806\n",
            "Epoch 12/20\n",
            "\u001b[1m8/8\u001b[0m \u001b[32m━━━━━━━━━━━━━━━━━━━━\u001b[0m\u001b[37m\u001b[0m \u001b[1m0s\u001b[0m 13ms/step - loss: 0.0185 - mae: 0.0990 - val_loss: 0.0140 - val_mae: 0.0887\n",
            "Epoch 13/20\n",
            "\u001b[1m8/8\u001b[0m \u001b[32m━━━━━━━━━━━━━━━━━━━━\u001b[0m\u001b[37m\u001b[0m \u001b[1m0s\u001b[0m 13ms/step - loss: 0.0199 - mae: 0.1000 - val_loss: 0.0156 - val_mae: 0.0951\n",
            "Epoch 14/20\n",
            "\u001b[1m8/8\u001b[0m \u001b[32m━━━━━━━━━━━━━━━━━━━━\u001b[0m\u001b[37m\u001b[0m \u001b[1m0s\u001b[0m 14ms/step - loss: 0.0161 - mae: 0.0931 - val_loss: 0.0132 - val_mae: 0.0853\n",
            "Epoch 15/20\n",
            "\u001b[1m8/8\u001b[0m \u001b[32m━━━━━━━━━━━━━━━━━━━━\u001b[0m\u001b[37m\u001b[0m \u001b[1m0s\u001b[0m 13ms/step - loss: 0.0178 - mae: 0.0937 - val_loss: 0.0131 - val_mae: 0.0846\n",
            "Epoch 16/20\n",
            "\u001b[1m8/8\u001b[0m \u001b[32m━━━━━━━━━━━━━━━━━━━━\u001b[0m\u001b[37m\u001b[0m \u001b[1m0s\u001b[0m 16ms/step - loss: 0.0159 - mae: 0.0894 - val_loss: 0.0143 - val_mae: 0.0889\n",
            "Epoch 17/20\n",
            "\u001b[1m8/8\u001b[0m \u001b[32m━━━━━━━━━━━━━━━━━━━━\u001b[0m\u001b[37m\u001b[0m \u001b[1m0s\u001b[0m 14ms/step - loss: 0.0122 - mae: 0.0800 - val_loss: 0.0145 - val_mae: 0.0894\n",
            "Epoch 18/20\n",
            "\u001b[1m8/8\u001b[0m \u001b[32m━━━━━━━━━━━━━━━━━━━━\u001b[0m\u001b[37m\u001b[0m \u001b[1m0s\u001b[0m 15ms/step - loss: 0.0141 - mae: 0.0842 - val_loss: 0.0132 - val_mae: 0.0843\n",
            "Epoch 19/20\n",
            "\u001b[1m8/8\u001b[0m \u001b[32m━━━━━━━━━━━━━━━━━━━━\u001b[0m\u001b[37m\u001b[0m \u001b[1m0s\u001b[0m 14ms/step - loss: 0.0155 - mae: 0.0933 - val_loss: 0.0154 - val_mae: 0.0927\n",
            "Epoch 20/20\n",
            "\u001b[1m8/8\u001b[0m \u001b[32m━━━━━━━━━━━━━━━━━━━━\u001b[0m\u001b[37m\u001b[0m \u001b[1m0s\u001b[0m 14ms/step - loss: 0.0167 - mae: 0.0925 - val_loss: 0.0143 - val_mae: 0.0882\n"
          ]
        }
      ]
    },
    {
      "cell_type": "code",
      "source": [
        "# ====================================\n",
        "# 5. Predictions & rescale\n",
        "# ====================================\n",
        "y_pred = model.predict(X_test)\n",
        "\n",
        "# Rescale back\n",
        "y_pred_rescaled = y_pred * (close_max - close_min) + close_min\n",
        "y_test_rescaled = y_test * (close_max - close_min) + close_min"
      ],
      "metadata": {
        "colab": {
          "base_uri": "https://localhost:8080/"
        },
        "id": "mnYXRziDpGE4",
        "outputId": "d5966eaa-8801-4329-a73b-2846c9676caa"
      },
      "execution_count": 6,
      "outputs": [
        {
          "output_type": "stream",
          "name": "stdout",
          "text": [
            "\u001b[1m1/1\u001b[0m \u001b[32m━━━━━━━━━━━━━━━━━━━━\u001b[0m\u001b[37m\u001b[0m \u001b[1m0s\u001b[0m 182ms/step\n"
          ]
        }
      ]
    },
    {
      "cell_type": "code",
      "source": [
        "# ====================================\n",
        "# 6. Plot\n",
        "# ====================================\n",
        "plt.figure(figsize=(12,6))\n",
        "\n",
        "# Plot last 50 test samples\n",
        "n = len(y_test_rescaled) # Set n to the number of available test samples\n",
        "for i in range(n):\n",
        "    # true future\n",
        "    plt.plot(range(i, i+future_steps), y_test_rescaled[i], color=\"blue\", alpha=0.4)\n",
        "    # predicted future\n",
        "    plt.plot(range(i, i+future_steps), y_pred_rescaled[i], color=\"red\", alpha=0.4)\n",
        "\n",
        "plt.title(\"Multi-step Forecasting (Blue=True, Red=Predicted)\")\n",
        "plt.show()"
      ],
      "metadata": {
        "colab": {
          "base_uri": "https://localhost:8080/",
          "height": 545
        },
        "id": "HpFibWCFpJIf",
        "outputId": "0382e72f-75e2-44c1-e6db-396e307615c7"
      },
      "execution_count": 9,
      "outputs": [
        {
          "output_type": "display_data",
          "data": {
            "text/plain": [
              "<Figure size 1200x600 with 1 Axes>"
            ],
            "image/png": "[encoded data removed]"
          },
          "metadata": {}
        }
      ]
    },
    {
      "cell_type": "markdown",
      "source": [
        "Now lets make the code smarter by using more than just closing prices."
      ],
      "metadata": {
        "id": "u_ap_O9gpxQ3"
      }
    },
    {
      "cell_type": "code",
      "source": [
        "import pandas as pd\n",
        "import numpy as np\n",
        "\n",
        "# Assume \"data\" already loaded\n",
        "df = data.copy()\n",
        "\n",
        "# 1. Daily returns\n",
        "df[\"Return\"] = df[\"Close\"].pct_change()\n",
        "\n",
        "# 2. Moving averages\n",
        "df[\"MA_5\"] = df[\"Close\"].rolling(window=5).mean()\n",
        "df[\"MA_20\"] = df[\"Close\"].rolling(window=20).mean()\n",
        "\n",
        "# 3. Volatility (rolling std of returns)\n",
        "df[\"Volatility\"] = df[\"Return\"].rolling(window=10).std()\n",
        "\n",
        "# Drop NaNs from rolling calculations\n",
        "df = df.dropna().reset_index(drop=True)\n",
        "\n",
        "# ==========================\n",
        "# Normalize features\n",
        "# ==========================\n",
        "from sklearn.preprocessing import MinMaxScaler\n",
        "\n",
        "scaler = MinMaxScaler()\n",
        "scaled = scaler.fit_transform(df[[\"Close\",\"Return\",\"MA_5\",\"MA_20\",\"Volatility\"]])\n",
        "\n",
        "# Build sequences again\n",
        "past_steps = 10\n",
        "future_steps = 3\n",
        "\n",
        "X, y = [], []\n",
        "for i in range(len(scaled) - past_steps - future_steps + 1):\n",
        "    X.append(scaled[i : i + past_steps])\n",
        "    y.append(scaled[i + past_steps : i + past_steps + future_steps, 0])\n",
        "    # <-- predict Close only (index 0)\n",
        "\n",
        "X = np.array(X)\n",
        "y = np.array(y)\n",
        "\n",
        "print(\"Shape of X:\", X.shape)  # (samples, timesteps, features)\n",
        "print(\"Shape of y:\", y.shape)  # (samples, future_steps)\n"
      ],
      "metadata": {
        "colab": {
          "base_uri": "https://localhost:8080/"
        },
        "id": "tQmuvWL-pwbs",
        "outputId": "d0ac3945-a0a4-41cd-dc70-ead46772296e"
      },
      "execution_count": 10,
      "outputs": [
        {
          "output_type": "stream",
          "name": "stdout",
          "text": [
            "Shape of X: (134, 10, 5)\n",
            "Shape of y: (134, 3)\n"
          ]
        }
      ]
    }
  ]
}